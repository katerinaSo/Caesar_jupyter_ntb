{
 "cells": [
  {
   "cell_type": "markdown",
   "id": "3d322edc",
   "metadata": {},
   "source": [
    "\n",
    "# Caesar Cypher \n",
    "\n",
    "this method of encypting is a shift of each letter in a string through order of alphabet by a given number of characters places.\n",
    "<br>\n",
    "this process codes the string to a specific <font color='orange'> **key** </font>(integer) \n",
    "<br>\n",
    " <font color='green'>Your Task is </font><br>\n",
    "**write function that takes a string and codes it <em>Caesar Cypher</em> way.**\n",
    "### things to remember:\n",
    "<ol>\n",
    "    alphabet can be taken from string module \n",
    "    <br>\n",
    "    alphabet = list(string.ascii_lowercase)\n",
    "    <br>\n",
    "    remind yourself of modulo operator  <font size='5rem' color='orange'>% </font>\n",
    "</ol>\n"
   ]
  },
  {
   "cell_type": "code",
   "execution_count": null,
   "id": "387781e4",
   "metadata": {},
   "outputs": [],
   "source": []
  }
 ],
 "metadata": {
  "kernelspec": {
   "display_name": "\"Python/Mu (mu_venv-38-20210321-175523)\"",
   "language": "python",
   "name": "mu_venv-38-20210321-175523"
  },
  "language_info": {
   "codemirror_mode": {
    "name": "ipython",
    "version": 3
   },
   "file_extension": ".py",
   "mimetype": "text/x-python",
   "name": "python",
   "nbconvert_exporter": "python",
   "pygments_lexer": "ipython3",
   "version": "3.8.5"
  }
 },
 "nbformat": 4,
 "nbformat_minor": 5
}
